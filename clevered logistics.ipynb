{
 "cells": [
  {
   "cell_type": "code",
   "execution_count": 1,
   "id": "887bd6b5",
   "metadata": {},
   "outputs": [
    {
     "name": "stdout",
     "output_type": "stream",
     "text": [
      "   gender race/ethnicity parental level of education         lunch  \\\n",
      "0  female        group B           bachelor's degree      standard   \n",
      "1  female        group C                some college      standard   \n",
      "2  female        group B             master's degree      standard   \n",
      "3    male        group A          associate's degree  free/reduced   \n",
      "4    male        group C                some college      standard   \n",
      "\n",
      "  test preparation course  math score  reading score  writing score  \n",
      "0                    none          72             72             74  \n",
      "1               completed          69             90             88  \n",
      "2                    none          90             95             93  \n",
      "3                    none          47             57             44  \n",
      "4                    none          76             78             75  \n",
      "Index(['gender', 'race/ethnicity', 'parental level of education', 'lunch',\n",
      "       'test preparation course', 'math score', 'reading score',\n",
      "       'writing score'],\n",
      "      dtype='object')\n",
      "gender                         object\n",
      "race/ethnicity                 object\n",
      "parental level of education    object\n",
      "lunch                          object\n",
      "test preparation course        object\n",
      "math score                      int64\n",
      "reading score                   int64\n",
      "writing score                   int64\n",
      "dtype: object\n"
     ]
    }
   ],
   "source": [
    "#import libraries\n",
    "import pandas as pd\n",
    "\n",
    "#read data\n",
    "\n",
    "data = pd.read_csv('https://confrecordings.ams3.digitaloceanspaces.com/StudentsPerformance.csv')\n",
    "\n",
    "#perform EDA\n",
    "\n",
    "print(data.head())\n",
    "\n",
    "print(data.columns)\n",
    "\n",
    "print(data.dtypes)"
   ]
  },
  {
   "cell_type": "code",
   "execution_count": 2,
   "id": "921a3028",
   "metadata": {},
   "outputs": [
    {
     "name": "stdout",
     "output_type": "stream",
     "text": [
      "gender                         int32\n",
      "race/ethnicity                 int32\n",
      "parental level of education    int32\n",
      "lunch                          int32\n",
      "test preparation course        int32\n",
      "math score                     int64\n",
      "reading score                  int64\n",
      "writing score                  int64\n",
      "dtype: object\n",
      "(1000, 5)\n",
      "(1000,)\n"
     ]
    }
   ],
   "source": [
    "#import library\n",
    "from sklearn import preprocessing\n",
    "\n",
    "#load library\n",
    "label_encoder = preprocessing.LabelEncoder()\n",
    "\n",
    "#conversion of textual data into numerical data\n",
    "data['gender']= label_encoder.fit_transform(data['gender'])\n",
    "data['race/ethnicity']= label_encoder.fit_transform(data['race/ethnicity'])\n",
    "data['parental level of education']= label_encoder.fit_transform(data['parental level of education'])\n",
    "data['lunch']= label_encoder.fit_transform(data['lunch'])\n",
    "data['test preparation course']= label_encoder.fit_transform(data['test preparation course'])\n",
    "\n",
    "#print type of data\n",
    "print(data.dtypes)\n",
    "\n",
    "#Feature selection\n",
    "X = data[['gender','race/ethnicity','parental level of education','lunch','test preparation course']].values\n",
    "Y = data['math score'].values\n",
    "\n",
    "#print shape of X and Y\n",
    "print(X.shape)\n",
    "print(Y.shape)"
   ]
  },
  {
   "cell_type": "code",
   "execution_count": 3,
   "id": "768b6c5f",
   "metadata": {},
   "outputs": [
    {
     "name": "stdout",
     "output_type": "stream",
     "text": [
      "     actual  predicted\n",
      "0        40  74.451585\n",
      "1        67  74.392130\n",
      "2        69  74.038254\n",
      "3        67  58.526318\n",
      "4        82  72.555035\n",
      "..      ...        ...\n",
      "195      66  67.060226\n",
      "196      46  58.402867\n",
      "197      52  72.259374\n",
      "198      88  75.686663\n",
      "199      65  75.514454\n",
      "\n",
      "[200 rows x 2 columns]\n",
      "Root Mean Squared Error: 13.652175430919435\n"
     ]
    }
   ],
   "source": [
    "#import library\n",
    "from sklearn.model_selection import train_test_split\n",
    "\n",
    "#divide into train and test data\n",
    "x_train, x_test, y_train, y_test = train_test_split(X, Y, test_size = 0.2)\n",
    "\n",
    "#train the model\n",
    "from sklearn.linear_model import LinearRegression\n",
    "lin_reg = LinearRegression()\n",
    "lin_reg.fit(x_train,y_train)\n",
    "\n",
    "#predict for x_test\n",
    "y_pred = lin_reg.predict(x_test)\n",
    "\n",
    "#make dataframe\n",
    "d = pd.DataFrame()\n",
    "d['actual'] = y_test\n",
    "d['predicted'] = y_pred\n",
    "print(d)\n",
    "\n",
    "#calculate RMSE\n",
    "from sklearn import metrics\n",
    "import numpy as np\n",
    "print('Root Mean Squared Error:', np.sqrt(metrics.mean_squared_error(y_test, y_pred)))"
   ]
  },
  {
   "cell_type": "code",
   "execution_count": 4,
   "id": "93c2da5f",
   "metadata": {},
   "outputs": [
    {
     "name": "stdout",
     "output_type": "stream",
     "text": [
      "     actual  predicted\n",
      "0         1          1\n",
      "1         0          1\n",
      "2         1          1\n",
      "3         1          1\n",
      "4         0          1\n",
      "..      ...        ...\n",
      "195       1          1\n",
      "196       1          1\n",
      "197       1          1\n",
      "198       1          1\n",
      "199       0          1\n",
      "\n",
      "[200 rows x 2 columns]\n",
      "0.83\n"
     ]
    }
   ],
   "source": [
    "#Add new column\n",
    "is_math_pass=data.get(['math score'])\n",
    "is_math_pass=is_math_pass.gt(50)\n",
    "is_math_pass.rename(columns={'math score':'is math passed'})\n",
    "\n",
    "#label encoding\n",
    "data['is math passed']=is_math_pass\n",
    "data['is math passed']= label_encoder.fit_transform(data['is math passed'])\n",
    "\n",
    "#choose dependent variable\n",
    "Y = data['is math passed'].values\n",
    "\n",
    "#import library\n",
    "from sklearn.model_selection import train_test_split\n",
    "\n",
    "#divide data into train and test\n",
    "x_train, x_test, y_train, y_test = train_test_split(X, Y, test_size = 0.2)\n",
    "\n",
    "#import library\n",
    "from sklearn.linear_model import LogisticRegression\n",
    "\n",
    "#train  model\n",
    "log_reg = LogisticRegression(max_iter=500)\n",
    "log_reg.fit(x_train,y_train)\n",
    "\n",
    "#predict x_test\n",
    "y_pred = log_reg.predict(x_test)\n",
    "\n",
    "#create dataframe\n",
    "d = pd.DataFrame()\n",
    "d['actual'] = y_test\n",
    "d['predicted'] = y_pred\n",
    "print(d)\n",
    "\n",
    "#check accuracy\n",
    "from sklearn import metrics\n",
    "print(metrics.accuracy_score(y_test,y_pred))"
   ]
  },
  {
   "cell_type": "code",
   "execution_count": null,
   "id": "74cbd6ee",
   "metadata": {},
   "outputs": [],
   "source": []
  }
 ],
 "metadata": {
  "kernelspec": {
   "display_name": "Python 3 (ipykernel)",
   "language": "python",
   "name": "python3"
  },
  "language_info": {
   "codemirror_mode": {
    "name": "ipython",
    "version": 3
   },
   "file_extension": ".py",
   "mimetype": "text/x-python",
   "name": "python",
   "nbconvert_exporter": "python",
   "pygments_lexer": "ipython3",
   "version": "3.9.12"
  }
 },
 "nbformat": 4,
 "nbformat_minor": 5
}
